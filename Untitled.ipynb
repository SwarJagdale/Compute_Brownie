{
 "cells": [
  {
   "cell_type": "markdown",
   "id": "f66c4a19",
   "metadata": {},
   "source": [
    "## Question 1\n",
    "        \n",
    "        import math\n",
    "        import os\n",
    "        import random\n",
    "        import re\n",
    "        import sys\n",
    "\n",
    "\n",
    "\n",
    "        if __name__ == '__main__':\n",
    "            n = int(input().strip())\n",
    "        if(n%2==0):\n",
    "            if(n in range(2,6) or n>20):\n",
    "                print(\"Not Weird\")\n",
    "            if(n in range(6,21)):\n",
    "                print(\"Weird\")\n",
    "        else:\n",
    "            print(\"Weird\")\n"
   ]
  },
  {
   "cell_type": "markdown",
   "id": "f21a7d17",
   "metadata": {},
   "source": [
    "## Question 2\n",
    "    if __name__ == '__main__':\n",
    "        n = int(input())\n",
    "        for i in range(0,n):\n",
    "            print(i**2)"
   ]
  },
  {
   "cell_type": "markdown",
   "id": "1228f8f5",
   "metadata": {},
   "source": [
    "## Question 3\n",
    "        def is_leap(y):\n",
    "    leap = False\n",
    "    if(y%4==0):\n",
    "        leap=True\n",
    "        if(y%100==0):\n",
    "            leap=False\n",
    "            if(y%400==0):\n",
    "                leap=True\n",
    "    # Write your logic here\n",
    "    \n",
    "    return str(leap)\n",
    "\n",
    "       year = int(input())\n",
    "    print(is_leap(year))"
   ]
  },
  {
   "cell_type": "code",
   "execution_count": 11,
   "id": "630cdb3f",
   "metadata": {},
   "outputs": [
    {
     "name": "stdout",
     "output_type": "stream",
     "text": [
      "5\n",
      "append 3\n",
      "append 2\n",
      "append 1\n",
      "reverse\n",
      "print\n",
      "[1, 2, 3]\n"
     ]
    }
   ],
   "source": [
    "if __name__ == '__main__':\n",
    "    N = int(input())\n",
    "    arr=[]\n",
    "    for i in range(N):\n",
    "        command=input()\n",
    "        if command.split(' ')[0]==\"print\":\n",
    "            print(arr)\n",
    "        if command.split(' ')[0]==\"sort\":\n",
    "            sort()\n",
    "        if command.split(' ')[0]==\"pop\":\n",
    "            arr=arr[:-1]\n",
    "        if command.split(' ')[0]==\"append\":\n",
    "            arr+=[int(command.split(' ')[1])]\n",
    "            \n",
    "        if command.split(' ')[0]==\"insert\":\n",
    "            para1= command.split(' ')[1]\n",
    "            para2=command.split(' ')[2]\n",
    "            insert(para2, para1)\n",
    "        if command.split(' ')[0]==\"remove\":\n",
    "            arr=remove(int(command.split(' ')[1]))\n",
    "        if command.split(' ')[0]=='reverse':\n",
    "            arr=reverse(arr)\n",
    "        def remove(a):\n",
    "\n",
    "            return arr[:index(a)]+arr[index(a)+1:]\n",
    "        def insert(a,b):\n",
    "            arr+=[42]\n",
    "            i=len(arr)\n",
    "            while i>a+2:\n",
    "                arr[i-1]=arr[i-2]\n",
    "                i=i-1\n",
    "            arr[a]=b\n",
    "            print (\"ille\")\n",
    "        def reverse(arr):\n",
    "            arr2=arr.copy()\n",
    "            for i in range(len(arr)):\n",
    "                arr2[len(arr)-1-i]=arr[i]\n",
    "\n",
    "            return arr2\n",
    "\n",
    "        def index(a):\n",
    "            for i in range(len(arr)):\n",
    "                if arr[i]==a:\n",
    "                    return i \n",
    "        def sort():\n",
    "            for i in range(len(arr)):\n",
    "                for j in range(len(arr)):\n",
    "                    if arr[i]<arr[j]:\n",
    "                        temp=arr[j]\n",
    "                        arr[j]=arr[i]\n",
    "                        arr[i]=temp"
   ]
  },
  {
   "cell_type": "code",
   "execution_count": 18,
   "id": "4f93b5f3",
   "metadata": {},
   "outputs": [
    {
     "ename": "IndexError",
     "evalue": "list assignment index out of range",
     "output_type": "error",
     "traceback": [
      "\u001b[1;31m---------------------------------------------------------------------------\u001b[0m",
      "\u001b[1;31mIndexError\u001b[0m                                Traceback (most recent call last)",
      "Cell \u001b[1;32mIn[18], line 12\u001b[0m\n\u001b[0;32m      9\u001b[0m             arr8[a]\u001b[38;5;241m=\u001b[39mb\n\u001b[0;32m     10\u001b[0m             \u001b[38;5;28mprint\u001b[39m (\u001b[38;5;124m\"\u001b[39m\u001b[38;5;124mille\u001b[39m\u001b[38;5;124m\"\u001b[39m)\n\u001b[1;32m---> 12\u001b[0m \u001b[38;5;28mprint\u001b[39m(\u001b[43minsert\u001b[49m\u001b[43m(\u001b[49m\u001b[38;5;241;43m2\u001b[39;49m\u001b[43m,\u001b[49m\u001b[38;5;241;43m3\u001b[39;49m\u001b[43m)\u001b[49m)\n",
      "Cell \u001b[1;32mIn[18], line 9\u001b[0m, in \u001b[0;36minsert\u001b[1;34m(a, b)\u001b[0m\n\u001b[0;32m      6\u001b[0m     arr8[i\u001b[38;5;241m-\u001b[39m\u001b[38;5;241m1\u001b[39m]\u001b[38;5;241m=\u001b[39marr8[i\u001b[38;5;241m-\u001b[39m\u001b[38;5;241m2\u001b[39m]\n\u001b[0;32m      8\u001b[0m     i\u001b[38;5;241m=\u001b[39mi\u001b[38;5;241m-\u001b[39m\u001b[38;5;241m1\u001b[39m\n\u001b[1;32m----> 9\u001b[0m arr8[a]\u001b[38;5;241m=\u001b[39mb\n\u001b[0;32m     10\u001b[0m \u001b[38;5;28mprint\u001b[39m (\u001b[38;5;124m\"\u001b[39m\u001b[38;5;124mille\u001b[39m\u001b[38;5;124m\"\u001b[39m)\n",
      "\u001b[1;31mIndexError\u001b[0m: list assignment index out of range"
     ]
    }
   ],
   "source": [
    "arr8=[]\n",
    "def insert(a,b):\n",
    "            #arr8=arr8+[42]\n",
    "            i=len(arr8)\n",
    "            while i>a+2:\n",
    "                arr8[i-1]=arr8[i-2]\n",
    "                \n",
    "                i=i-1\n",
    "            arr8[a]=b\n",
    "            print (\"ille\")\n",
    "\n",
    "print(insert(2,3))"
   ]
  },
  {
   "cell_type": "code",
   "execution_count": null,
   "id": "786b2991",
   "metadata": {},
   "outputs": [],
   "source": []
  },
  {
   "cell_type": "markdown",
   "id": "3e52396e",
   "metadata": {},
   "source": [
    "## Question 5\n",
    "    import numpy\n",
    "    def arrays(arr):\n",
    "        arr2 = arr.copy()\n",
    "\n",
    "        str2=f\"[{float(int(arr[len(arr)-1])):.0f}.\"\n",
    "        for i in range(1,len(arr)):\n",
    "            if str(arr[len(arr)-i-1])[0]!=\"-\":\n",
    "                str2+=f' '\n",
    "            str2+=f'  {float(int(arr[len(arr)-i-1])):.0f}.'\n",
    "\n",
    "        return str2+\"]\"\n",
    "\n",
    "    arr = input().strip().split(' ')\n",
    "    result = arrays(arr)\n",
    "    print(result)"
   ]
  },
  {
   "cell_type": "markdown",
   "id": "8b7a7b48",
   "metadata": {},
   "source": [
    "## Question 6\n",
    "    cube = lambda x:x**3\n",
    "\n",
    "    def fibonacci(n):\n",
    "        arr=[0,1]\n",
    "        for i in range(2,n):\n",
    "            arr+=[arr[i-1]+arr[i-2]]\n",
    "        return arr\n",
    "\n",
    "    if __name__ == '__main__':\n",
    "        n = int(input())\n",
    "        print(list(map(cube, fibonacci(n))))"
   ]
  },
  {
   "cell_type": "code",
   "execution_count": 38,
   "id": "e724c415",
   "metadata": {
    "scrolled": true
   },
   "outputs": [
    {
     "name": "stdout",
     "output_type": "stream",
     "text": [
      "1\n"
     ]
    },
    {
     "data": {
      "text/plain": [
       "[2, 51, 7, 8]"
      ]
     },
     "execution_count": 38,
     "metadata": {},
     "output_type": "execute_result"
    }
   ],
   "source": [
    "a = int(input())\n",
    "arr2=[2,3,51,7,8]\n",
    "arr2[:a]+arr2[a+1:]"
   ]
  },
  {
   "cell_type": "code",
   "execution_count": 40,
   "id": "fdfb095f",
   "metadata": {},
   "outputs": [],
   "source": [
    "arr2.sort()"
   ]
  },
  {
   "cell_type": "code",
   "execution_count": null,
   "id": "1ece46dd",
   "metadata": {},
   "outputs": [],
   "source": []
  }
 ],
 "metadata": {
  "kernelspec": {
   "display_name": "Python 3 (ipykernel)",
   "language": "python",
   "name": "python3"
  },
  "language_info": {
   "codemirror_mode": {
    "name": "ipython",
    "version": 3
   },
   "file_extension": ".py",
   "mimetype": "text/x-python",
   "name": "python",
   "nbconvert_exporter": "python",
   "pygments_lexer": "ipython3",
   "version": "3.10.9"
  }
 },
 "nbformat": 4,
 "nbformat_minor": 5
}
